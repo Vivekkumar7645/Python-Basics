{
  "nbformat": 4,
  "nbformat_minor": 0,
  "metadata": {
    "colab": {
      "provenance": []
    },
    "kernelspec": {
      "name": "python3",
      "display_name": "Python 3"
    },
    "language_info": {
      "name": "python"
    }
  },
  "cells": [
    {
      "cell_type": "markdown",
      "source": [
        "# Python Basics Questions"
      ],
      "metadata": {
        "id": "XyuxK9nlZjtn"
      }
    },
    {
      "cell_type": "markdown",
      "source": [
        "## Q 1. What is python, and why is it popular?\n",
        "**Ans** - Python is high level computer programming language to provide instructions for performing specific tasks. it is easy to learn and use, making it ideal for beginners and professionals alike. Python is created by Guido van Rossum in 1991.\n",
        "\n",
        "Python is popular for following reasons -\n",
        "* Readability and Simplicity\n",
        "* Versatility\n",
        "* Extensive Libraries\n",
        "* Community Support\n",
        "* Platform Independence\n",
        "* Growing Demand in the Industry"
      ],
      "metadata": {
        "id": "mI3dCLt9Z5Vf"
      }
    },
    {
      "cell_type": "markdown",
      "source": [
        "##Q 2. What is an interpreter in python?\n",
        "\n",
        "**Ans** - An interpreter in Python is a software program that executes Python code directly, line by line, without the need for prior compilation into machine language. It translates the high level Python code into intermediate representations and ultimately into machine level instructions that the computer can understand.\n",
        "\n",
        "Features of Python interpreter:\n",
        "\n",
        "* **Execution of Code**: The interpreter reads the Python script,\n",
        "    analyzes each line, and executes it immediately. This allows for quick testing and debugging of code.\n",
        "\n",
        "* **Cross-Platform**: The Python interpreter works across multiple\n",
        "    platforms (Windows, macOS, Linux), allowing Python programs to run on different operating systems without modification.\n",
        "\n",
        "* **Error Detection**: An interpreter checks the syntax and raises\n",
        "    errors as soon as it encounters them, which can make debugging easier.few types of Interpreters are as followed - CPython, PyPy, Jython...etc."
      ],
      "metadata": {
        "id": "at-SksLTbrP2"
      }
    },
    {
      "cell_type": "markdown",
      "source": [
        "##Q 3. what are pre-defined keywords in python?\n",
        "\n",
        "**Ans** - Pre-defined keywords in Python are reserved words that have specific meaning and purpose in python language. These keywords are form Python's syntax and cannot be used as identifier (eg - variable names, function names..etc).\n",
        "\n",
        "**predefined keywords are as following** -\n",
        "* False\n",
        "* await\n",
        "* else\n",
        "* import\n",
        "* pass\n",
        "* None\n",
        "* break\n",
        "* except\n",
        "* in\n",
        "* raise\n",
        "* True\n",
        "* class\n",
        "* finally\n",
        "* is\n",
        "* return\n",
        "* and\n",
        "* continue\n",
        "* for\n",
        "* lambda\n",
        "* try\n",
        "* as\n",
        "* def\n",
        "* from\n",
        "* nonlocal\n",
        "* while\n",
        "* assert\n",
        "* del\n",
        "* global\n",
        "* not\n",
        "* with\n",
        "* async\n",
        "* elif\n",
        "* if\n",
        "* or\n",
        "* yield."
      ],
      "metadata": {
        "id": "DcL0Hv8UccQY"
      }
    },
    {
      "cell_type": "markdown",
      "source": [
        "##Q 4. can keywords be used as variable names?\n",
        "**Ans** - No, predefined keywords cannot be used as variable names in Python because keywords are reserved words with specific meaning in the Python language. Using them as variable names would cause a syntax error and make the code ambiguous.\n",
        "* Example -\n",
        "if = 5\n",
        "print(if)\n",
        "\n",
        "it will show syntax error\n",
        "* Syntax Error: invalid syntax"
      ],
      "metadata": {
        "id": "g7Y2u_zkcnm2"
      }
    },
    {
      "cell_type": "markdown",
      "source": [
        "##Q 5. what is mutability in python?\n",
        "**Ans** - Mutability in Python refers to the ability of changing an object or cell to be modify after it has been created. Mutable objects are modified in place, avoiding the need to create copies.\n",
        "* Example: List"
      ],
      "metadata": {
        "id": "nBNSaPAJc0qe"
      }
    },
    {
      "cell_type": "code",
      "source": [
        "def modify_list(list):\n",
        "    print(f\"Original list: {list}\")\n",
        "    list[0] = \"apple\"\n",
        "    print(f\"Modified list: {list}\")\n",
        "list = [1, 2, 3, 4, 5]\n",
        "modify_list(list)"
      ],
      "metadata": {
        "id": "sA2wvpOcWKBg"
      },
      "execution_count": null,
      "outputs": []
    },
    {
      "cell_type": "markdown",
      "source": [
        "##Q 6. why are lists mutable, but tuples are immutable?\n",
        "**Ans** - Lists are Mutable in Python because it have the ability of changing an object or cell after it has been created. Mutable objects are modified in place, avoiding the need to create copies.\n",
        "\n",
        "Whereas, Tuples are designed to represent fixed collection of items. Their immutability makes them reliable for use as keys in dictionary, element in sets, and for scenarios where data integrity and consistency are important.\n",
        "* Example -"
      ],
      "metadata": {
        "id": "qLIPDJPNdA0W"
      }
    },
    {
      "cell_type": "code",
      "source": [
        "my_list = (1, 2, 3)\n",
        "my_list.append(4)\n",
        "print(my_list)\n",
        "my_tuple = (1, 2, 3)\n",
        "print(my_tuple)"
      ],
      "metadata": {
        "id": "zPlnDQqdoLII"
      },
      "execution_count": null,
      "outputs": []
    },
    {
      "cell_type": "markdown",
      "source": [
        "##Q 7. what is the difference between\"==\" and \"is\" operators in python?\n",
        "**Ans** - The \"==\" and \"is\" operators in Python are both comparison operators, but they serve different purposes.\n",
        "\n",
        "1. \"==\" Operator - The \"==\" operator is used to compare the values of two objects. It checks whether the contents or values of the two objects are equal.\n",
        "It does not consider whether the objects themselves are the same in memory.\n",
        "* Example -"
      ],
      "metadata": {
        "id": "P6LThR9YdRPW"
      }
    },
    {
      "cell_type": "code",
      "source": [
        "a = [1, 2, 3]\n",
        "b = [1, 2, 3]\n",
        "print(a == b)"
      ],
      "metadata": {
        "id": "_2iNGf0zAAvj"
      },
      "execution_count": null,
      "outputs": []
    },
    {
      "cell_type": "markdown",
      "source": [
        "2. \"is\" Operator - This operator is used to compare the identity of two objects.\n",
        "It checks whether two objects refer to the same memory location. This is useful when we want to ensure two variables reference the exact same object.\n",
        "* Example -"
      ],
      "metadata": {
        "id": "lis5oHjvABjJ"
      }
    },
    {
      "cell_type": "code",
      "source": [
        "a = [1, 2, 3]\n",
        "b = [1, 2, 3]\n",
        "c = a\n",
        "print(a is b)\n",
        "print(a is c)"
      ],
      "metadata": {
        "id": "iCGiK92mADux"
      },
      "execution_count": null,
      "outputs": []
    },
    {
      "cell_type": "markdown",
      "source": [
        "##Q 8. what are logical operators in python?\n",
        "**Ans** - Logical operators in Python are used to combine multiple conditional statements (Boolean expressions) to make complex logical decisions. These operators return a Boolean value (True or False) based on the conditions.\n",
        "\n",
        "1.   and\n",
        "2.   or\n",
        "3.   not"
      ],
      "metadata": {
        "id": "iEslJ4-xdY6-"
      }
    },
    {
      "cell_type": "markdown",
      "source": [
        "1. \"and\" Operator - The and operator returns True if all conditions are True.\n",
        "If any condition is False, the result will be False.\n",
        "* Example -"
      ],
      "metadata": {
        "id": "4gyGAD66-Xax"
      }
    },
    {
      "cell_type": "code",
      "source": [
        "x = 10\n",
        "y = 5\n",
        "if x > 0 and y > 0:\n",
        "    print(\"Both x and y are positive.\")\n",
        "else:\n",
        "    print(\"At least one is not positive.\")"
      ],
      "metadata": {
        "id": "cd4ry2Wh-haJ"
      },
      "execution_count": null,
      "outputs": []
    },
    {
      "cell_type": "markdown",
      "source": [
        "2. \"or\" Operator - The or operator returns True if at least one condition is True.\n",
        "The result will only be False if all conditions are False.\n",
        "* Example -"
      ],
      "metadata": {
        "id": "bok96a1A-jNI"
      }
    },
    {
      "cell_type": "code",
      "source": [
        "x = -5\n",
        "y = 5\n",
        "if x > 0 or y > 0:\n",
        "    print(\"At least one of x or y is positive.\")\n",
        "else:\n",
        "    print(\"Both x and y are not positive.\")"
      ],
      "metadata": {
        "id": "77aKg6i2-rJU"
      },
      "execution_count": null,
      "outputs": []
    },
    {
      "cell_type": "markdown",
      "source": [
        "3. \"not\" Operator - The not operator negates the condition.\n",
        "If the condition is True, not makes it False, and vice versa."
      ],
      "metadata": {
        "id": "DQtj8i_1-wUA"
      }
    },
    {
      "cell_type": "code",
      "source": [
        "x = 10\n",
        "if not x < 0:\n",
        "    print(\"x is not negative.\")\n",
        "else:\n",
        "    print(\"x is negative.\")"
      ],
      "metadata": {
        "id": "22vNHcPH-z8A"
      },
      "execution_count": null,
      "outputs": []
    },
    {
      "cell_type": "markdown",
      "source": [
        "* Combining Logical Operators - we can combine \"and\",\"or\" and \"not\" in a single expression. Use parentheses to ensure clarity and control the order of evaluation.\n",
        "* Example -"
      ],
      "metadata": {
        "id": "JpBL8tzg-7tg"
      }
    },
    {
      "cell_type": "code",
      "source": [
        "x = 10\n",
        "y = 5\n",
        "z = -3\n",
        "\n",
        "if (x > 0 and y > 0) or not (z > 0):\n",
        "    print(\"Complex condition is True.\")\n",
        "else:\n",
        "    print(\"Complex condition is False.\")\n"
      ],
      "metadata": {
        "id": "3kSN6bey--N5"
      },
      "execution_count": null,
      "outputs": []
    },
    {
      "cell_type": "markdown",
      "source": [
        "##Q 9. what is type casting in python?\n",
        "**Ans** - Type casting in Python refers to the process of converting one data type into another. This is done to ensure that operations between different data types work correctly or to meet specific requirements of the program. Python supports two types of type casting\n",
        "\n",
        "1.   Implicit type casting - In this type of casting python automatically converts a value from one data type to another when no data loss occurs.\n",
        "Python does this to ensure that operations involving different data types run smoothly.\n",
        "* Example -"
      ],
      "metadata": {
        "id": "7KBlPAQxdk2e"
      }
    },
    {
      "cell_type": "code",
      "source": [
        "x = 5\n",
        "y = 2.5\n",
        "result = x + y\n",
        "print(result)\n",
        "print(type(result))"
      ],
      "metadata": {
        "id": "V7t7u4x87_GS"
      },
      "execution_count": null,
      "outputs": []
    },
    {
      "cell_type": "markdown",
      "source": [
        "2.   Explicit type casting - The programmer manually converts value from one data type to another data type using Python's built-in type conversion functions. Explicit type casting is done when Python cannot automatically perform the conversion or when the programmer explicitly wants to change the data type.\n",
        "* Example - Float to Integer (Data Loss)"
      ],
      "metadata": {
        "id": "TeR6zqyz8Dzh"
      }
    },
    {
      "cell_type": "code",
      "source": [
        "a = 10.8\n",
        "b = int(a)\n",
        "print(b)"
      ],
      "metadata": {
        "id": "CSIcEE0W8EZJ"
      },
      "execution_count": null,
      "outputs": []
    },
    {
      "cell_type": "markdown",
      "source": [
        "##Q 10. what is the difference between implicit and explicit type casting?\n",
        "**Ans** - **Implicit Type Casting** - this type of casting occurs automatically when Python converts one data type to another without the programmer's intervention. Python does this to ensure calculations are handled correctly and consistently (from \"int\" to \"float\").\n",
        "* Example -"
      ],
      "metadata": {
        "id": "NnNpVHRKdymu"
      }
    },
    {
      "cell_type": "code",
      "source": [
        "x = 10\n",
        "y = 2.5\n",
        "result = x + y\n",
        "print(result)\n",
        "print(type(result))"
      ],
      "metadata": {
        "id": "4wSYIvBK5Uwq"
      },
      "execution_count": null,
      "outputs": []
    },
    {
      "cell_type": "markdown",
      "source": [
        "**Explicit Type Casting** - This type of casting occurs when the programmer manually converts one data type into another using built-in functions like int(), float(), str(), etc. Explicit type casting can sometimes result in data loss or errors if not handled carefully.\n",
        "* Example -"
      ],
      "metadata": {
        "id": "cvD6Ou5W5Yfi"
      }
    },
    {
      "cell_type": "code",
      "source": [
        "a = 10.7\n",
        "b = \"25\"\n",
        "int_a = int(a)\n",
        "print(int_a)\n",
        "int_b = int(b)\n",
        "print(int_b)\n",
        "str_a = str(int_a)\n",
        "print(str_a)"
      ],
      "metadata": {
        "id": "s5UqFNDt5x6R"
      },
      "execution_count": null,
      "outputs": []
    },
    {
      "cell_type": "markdown",
      "source": [
        "##Q 11. what is the purpose of conditional statements in python?\n",
        "**Ans** - Conditional statements in Python are used to execute certain blocks of code based on specific conditions. They enable the program to make decisions and alter its flow of execution depending on whether a condition is True or False. This is essential for creating dynamic, flexible programs that can respond to different inputs or situations.\n",
        "***\n",
        "**Purpose of Conditional Statements in Python**\n",
        "\n",
        "* Decision Making: Conditional statements allow a program to choose between different courses of action based on certain conditions. This is fundamental for tasks that require logic and control flow. Example -"
      ],
      "metadata": {
        "id": "OD0SdXe9d6Vm"
      }
    },
    {
      "cell_type": "code",
      "source": [
        "age = int(input(\"Enter your age\"))\n",
        "if age >=18:\n",
        "    print(\"You can vote.\")\n",
        "else:\n",
        "    print(\"You cannot vote yet.\")"
      ],
      "metadata": {
        "id": "3Qe-VRf8yc5r"
      },
      "execution_count": null,
      "outputs": []
    },
    {
      "cell_type": "markdown",
      "source": [
        "* Control Flow: They control the flow of the program by determining which part of the code should execute next.\n",
        "Without conditional statements, all lines of code would execute sequentially, making it impossible to implement logic.\n",
        "* Handling Multiple Scenarios: With if, elif, and else, you can handle multiple potential scenarios in a single decision-making structure.\n",
        "\n",
        "**Example**:"
      ],
      "metadata": {
        "id": "0coG9KFlygqn"
      }
    },
    {
      "cell_type": "code",
      "source": [
        "score = int(input(\"Enter your score \"))\n",
        "if score >= 90:\n",
        "    print(\"Grade: A\")\n",
        "elif score >= 80:\n",
        "    print(\"Grade: B\")\n",
        "elif score >= 70:\n",
        "    print(\"Grade: C\")\n",
        "elif score >= 60:\n",
        "    print(\"Grade: D\")\n",
        "elif score >= 40:\n",
        "    print(\"Grade: E\")\n",
        "else:\n",
        "    print(\"Grade: Fail\")"
      ],
      "metadata": {
        "id": "_Rghl9MF2ctT"
      },
      "execution_count": null,
      "outputs": []
    },
    {
      "cell_type": "markdown",
      "source": [
        "* Interactivity and User Input: Conditional statements allow programs to respond differently to user inputs or external data.\n",
        "* For example -"
      ],
      "metadata": {
        "id": "vNguLeVd2sMa"
      }
    },
    {
      "cell_type": "code",
      "source": [
        "user_input = input(\"Enter a number: \")\n",
        "if int(user_input) >= 10:\n",
        "    print(\"The number is 10 or greater than 10.\")\n",
        "else:\n",
        "    print(\"The number is less than 10.\")"
      ],
      "metadata": {
        "id": "nTYySUQ420eq"
      },
      "execution_count": null,
      "outputs": []
    },
    {
      "cell_type": "markdown",
      "source": [
        "* Error Handling: Conditional statements can be used to check for specific conditions and prevent errors or unexpected behavior in a program.\n",
        "* For example:"
      ],
      "metadata": {
        "id": "fbaitaZE27Ja"
      }
    },
    {
      "cell_type": "code",
      "source": [
        "numerator = int(input(\"Enter numerator: \"))\n",
        "divisor = int(input(\"Enter divisor: \"))\n",
        "if divisor != 0:\n",
        "    result = numerator/divisor\n",
        "    print(\"Result:\", result)\n",
        "else:\n",
        "    result = \"Error: Cannot divide by zero.\"\n",
        "    print(result)"
      ],
      "metadata": {
        "id": "EPTkyBTL3DDS"
      },
      "execution_count": null,
      "outputs": []
    },
    {
      "cell_type": "markdown",
      "source": [
        "* Implementing Logic: Conditional statements are essential for implementing logic, algorithms, and rules in programs.\n",
        "* Example -"
      ],
      "metadata": {
        "id": "9S0k2dwp3KJC"
      }
    },
    {
      "cell_type": "code",
      "source": [
        "player_health = int(input(\"Enter player health \"))\n",
        "if player_health <= 0:\n",
        "    print(\"Game Over\")\n",
        "elif player_health < 40:\n",
        "    print(\"Warning!!! Low health\")\n",
        "else:\n",
        "    print(\"You're in good condition\")"
      ],
      "metadata": {
        "id": "MuXM15aB3VQi"
      },
      "execution_count": null,
      "outputs": []
    },
    {
      "cell_type": "markdown",
      "source": [
        "##Q 12. how does the elif statement work?\n",
        "**Ans** - The elif statement in Python is short for \"else if,\" and it's used in conditional programming to specify additional conditions to test if the initial if condition is not met. It allows for multiple branches of logic within a single block of code.\n",
        "***\n",
        "**How its work**\n",
        "* The \"if\" statement is evaluated first.\n",
        "* If the \"if\" condition is \"True\", its block of code is executed, and the rest of the \"elif\" and \"else\" blocks are skipped.\n",
        "* If the \"if\" condition is \"False\", the program checks the next \"elif\" condition. If that condition is \"True\", its block of code is executed, and the remaining blocks are skipped.\n",
        "* This process continues through any additional \"elif\" statements until one condition evaluates to \"True\" or all conditions are evaluated.\n",
        "* If none of the \"if\" or \"elif\" conditions are \"True\", the \"else\" block (if present) is executed.\n",
        "\n",
        "**Example**"
      ],
      "metadata": {
        "id": "qNrtUgGseDnX"
      }
    },
    {
      "cell_type": "code",
      "source": [
        "age = int(input(\"Enter your age: \"))\n",
        "if age <= 13:\n",
        "    print(\"You are a child.\")\n",
        "elif age < 20:\n",
        "    print(\"You are a teenager.\")\n",
        "elif age < 65:\n",
        "    print(\"You are an adult.\")\n",
        "else:\n",
        "    print(\"You are a senior.\")"
      ],
      "metadata": {
        "id": "05C4axsI2d4t"
      },
      "execution_count": null,
      "outputs": []
    },
    {
      "cell_type": "markdown",
      "source": [
        "##Q 13. what is the difference between for and while loops?\n",
        "**Ans** - The differences between 'for' and 'while' loops depend upon use cases, structure.\n",
        "\n",
        "**1. Use Case**\n",
        "* 'for' loop: Used when the number of iterations is known in advance or when iterating over a sequence (e.g., list, tuple, range, etc.).\n",
        "* 'while' loop: Used when the number of iterations is unknown and depends on a condition that is checked each time before running the loop.\n",
        "\n",
        "**2. Syntax and Structure**\n",
        "* for loop: Automatically iterates over a sequence or a range.\n",
        "* 'while' loop: Runs as long as a specified condition is True. The condition is explicitly written and must eventually become False to stop the loop.\n",
        "\n",
        "**3. Control of Iteration**\n",
        "* for loop: The loop variable is automatically updated by the sequence or range. No manual control is needed."
      ],
      "metadata": {
        "id": "XpBIU6-YeLdO"
      }
    },
    {
      "cell_type": "code",
      "source": [
        "for i in range(5):\n",
        "    print(i)"
      ],
      "metadata": {
        "id": "BE4opmfYwibU"
      },
      "execution_count": null,
      "outputs": []
    },
    {
      "cell_type": "markdown",
      "source": [
        "* while loop: Requires manual control of variables to ensure the condition eventually becomes False, avoiding infinite loops."
      ],
      "metadata": {
        "id": "EOs8fJbUwpCN"
      }
    },
    {
      "cell_type": "code",
      "source": [
        "count = 0\n",
        "while count < 5:\n",
        "    print(count)\n",
        "    count += 1\n"
      ],
      "metadata": {
        "id": "gFb78CsIwqTs"
      },
      "execution_count": null,
      "outputs": []
    },
    {
      "cell_type": "markdown",
      "source": [
        "**4. Iteration Count**\n",
        "* for loop: Ideal for a fixed or predefined number of iterations.\n",
        "* while loop: Ideal for dynamic conditions where the number of iterations\n",
        "  depends on external factors or calculations.\n",
        "\n",
        "**5. Risk of Infinite Loops**\n",
        "* for loop: Less prone to infinite loops because it operates over a defined\n",
        "  range or sequence.\n",
        "* while loop: More prone to infinite loops if the condition never becomes False\n",
        "  due to improper updates or logic.\n",
        "  \n",
        "**6. Examples**\n",
        "* Example of a for loop:\n",
        "Iterating through a list:"
      ],
      "metadata": {
        "id": "EtBI6_9Sw2B0"
      }
    },
    {
      "cell_type": "code",
      "source": [
        "fruits = [\"apple\", \"banana\", \"cherry\"]\n",
        "for fruit in fruits:\n",
        "    print(fruit)"
      ],
      "metadata": {
        "id": "jxtptb1Qw-UV"
      },
      "execution_count": null,
      "outputs": []
    },
    {
      "cell_type": "markdown",
      "source": [
        "* Example of a while loop: User input validation:"
      ],
      "metadata": {
        "id": "ELgEHMJuxBlV"
      }
    },
    {
      "cell_type": "code",
      "source": [
        "password = \"password\"\n",
        "user_input = \"\"\n",
        "while user_input != password:\n",
        "    user_input = input(\"Enter the password: \")\n",
        "print(\"Access granted!\")"
      ],
      "metadata": {
        "id": "Iv5A4t8xxEm0"
      },
      "execution_count": null,
      "outputs": []
    },
    {
      "cell_type": "markdown",
      "source": [
        "##Q 14. describe a scenario where a while loop is more suitable than a for loop.\n",
        "**Ans**- Imagine we are building a program that ask user to enter username and password. The program should keep asking until the correct credentials are provided. In this case, making a while loop the better choice.\n",
        "\n",
        "correct username and password is as follows:\n",
        "* Username - **PWSkills**\n",
        "* Password - **password**"
      ],
      "metadata": {
        "id": "mDMJhUWAeZ33"
      }
    },
    {
      "cell_type": "code",
      "source": [
        "correct_username = \"PWSkills\"\n",
        "correct_password = \"password\"\n",
        "while True:\n",
        "    username = input(\"Username: \")\n",
        "    password = input(\"Password: \")\n",
        "    if username == correct_username and password == correct_password:\n",
        "        print(\"Access granted!\")\n",
        "        break\n",
        "    else:\n",
        "     print(\"Try again.\")"
      ],
      "metadata": {
        "id": "jtY8dV8R9jeX"
      },
      "execution_count": null,
      "outputs": []
    },
    {
      "cell_type": "markdown",
      "source": [
        "# Practical Questions"
      ],
      "metadata": {
        "id": "aiLyLIP1jkE9"
      }
    },
    {
      "cell_type": "markdown",
      "source": [
        "## Q 1. Write a python program to print \"Hello, World!\""
      ],
      "metadata": {
        "id": "LlZ017bFOJVg"
      }
    },
    {
      "cell_type": "code",
      "source": [
        "print(\"Hello, World!\")"
      ],
      "metadata": {
        "id": "VpkYA0qlOUmm"
      },
      "execution_count": null,
      "outputs": []
    },
    {
      "cell_type": "markdown",
      "source": [
        "##Q 2. Write a python program that displays your name and age."
      ],
      "metadata": {
        "id": "xVKpN08ROq0f"
      }
    },
    {
      "cell_type": "code",
      "source": [
        "name = \"Vivek Kumar\"\n",
        "age = 28\n",
        "print(\"My name is\", name)\n",
        "print(\"I am\", age, \"years old\")"
      ],
      "metadata": {
        "id": "QXVtRwvaOz-v"
      },
      "execution_count": null,
      "outputs": []
    },
    {
      "cell_type": "markdown",
      "source": [
        "##Q 3. Write code to print all the pre-defined keywords in python using the keyword library."
      ],
      "metadata": {
        "id": "5UAAY-UdPP2f"
      }
    },
    {
      "cell_type": "code",
      "source": [
        "import keyword\n",
        "keywords = keyword.kwlist\n",
        "print(\"Python Keywords:\")\n",
        "for kw in keywords:\n",
        "    print(kw)"
      ],
      "metadata": {
        "id": "8T6nKaQUPWuw"
      },
      "execution_count": null,
      "outputs": []
    },
    {
      "cell_type": "markdown",
      "source": [
        "##Q 4.Write a program that check if a given word is a python keyword."
      ],
      "metadata": {
        "id": "GZRZBTK1Pfjv"
      }
    },
    {
      "cell_type": "code",
      "source": [
        "import keyword\n",
        "word = input(\"Enter a word: \")\n",
        "if keyword.iskeyword(word):\n",
        "    print(f\"'{word}' is a Python keyword.\")\n",
        "else:\n",
        "    print(f\"'{word}' is not a Python keyword.\")"
      ],
      "metadata": {
        "id": "ioZ7ThrlPnFH"
      },
      "execution_count": null,
      "outputs": []
    },
    {
      "cell_type": "markdown",
      "source": [
        "##Q 5. Create a list and tuple in python, and demonstrate how attempting to change an element works differently for each."
      ],
      "metadata": {
        "id": "FX5rqhVqPumO"
      }
    },
    {
      "cell_type": "code",
      "source": [
        "my_list = [1, 2, 3]\n",
        "my_tuple = (1, 2, 3)\n",
        "print(\"Original list:\", my_list)\n",
        "my_list[1] = 36\n",
        "print(\"Modified list:\", my_list)\n",
        "print(\"\\nOriginal tuple:\", my_tuple)\n",
        "try:\n",
        "    my_tuple[1] = 36\n",
        "except TypeError as e:\n",
        "    print(\"Error:\", e)\n",
        "print(\"Final tuple :\", my_tuple)"
      ],
      "metadata": {
        "id": "f6GKloGsP3vW"
      },
      "execution_count": null,
      "outputs": []
    },
    {
      "cell_type": "markdown",
      "source": [
        "##Q 6. write a function to demonstrate the behavior of mutable and immutable arguments."
      ],
      "metadata": {
        "id": "iVhvIWaXP9av"
      }
    },
    {
      "cell_type": "code",
      "source": [
        "def demonstrate_mutability():\n",
        "    # Immutable argument (integer)\n",
        "    num = 10\n",
        "    print(f\"Before modification number = {num}\")\n",
        "    def modify_immutable(val):\n",
        "        val += 5\n",
        "        print(f\"modified number = {val}\")\n",
        "    modify_immutable(num)\n",
        "    print(f\"After modification number = {num}\")\n",
        "\n",
        "    # Mutable argument (list)\n",
        "    print(f\"\\nBefore modification list = {[1, 2, 3]}\")\n",
        "    def modify_mutable(val):\n",
        "        val.append(4)\n",
        "        print(f\"modified list = {val}\")\n",
        "    modify_mutable([1, 2, 3])\n",
        "    print(f\"After modification list = {list}\")\n",
        "demonstrate_mutability()"
      ],
      "metadata": {
        "id": "gJ0L1H6EQFfX"
      },
      "execution_count": null,
      "outputs": []
    },
    {
      "cell_type": "markdown",
      "source": [
        "##Q 7. write a function to demonstrate the behavior of mutable and immutable arguments."
      ],
      "metadata": {
        "id": "c_xDCD1aQ-A-"
      }
    },
    {
      "cell_type": "code",
      "source": [
        "def demonstrate_mutability():\n",
        "    # Immutable argument (integer)\n",
        "    num = 10\n",
        "    print(f\"Before modification number = {num}\")\n",
        "    def modify_immutable(val):\n",
        "        val += 5\n",
        "        print(f\"modified number = {val}\")\n",
        "    modify_immutable(num)\n",
        "    print(f\"After modification number = {num}\")\n",
        "\n",
        "    # Mutable argument (list)\n",
        "    print(f\"\\nBefore modification list = {[1, 2, 3]}\")\n",
        "    def modify_mutable(val):\n",
        "        val.append(4)\n",
        "        print(f\"modified list = {val}\")\n",
        "    modify_mutable([1, 2, 3])\n",
        "    print(f\"After modification list = {list}\")\n",
        "demonstrate_mutability()"
      ],
      "metadata": {
        "id": "UZynLya1RMyF"
      },
      "execution_count": null,
      "outputs": []
    },
    {
      "cell_type": "markdown",
      "source": [
        "##Q 8. write a program to demonstrate the use of logical operators."
      ],
      "metadata": {
        "id": "Qn9gDvovQIsH"
      }
    },
    {
      "cell_type": "code",
      "source": [
        "age = int(input(\"Enter your age: \"))\n",
        "has_voter_id = input(\"Do you have a voter ID? (yes/no): \").strip().lower()\n",
        "if age >= 18 and has_voter_id == \"yes\":\n",
        "    print(\"You are eligible to vote.\")\n",
        "else:\n",
        "    print(\"You are not eligible to vote.\")"
      ],
      "metadata": {
        "id": "rusRQb1gQVo-"
      },
      "execution_count": null,
      "outputs": []
    },
    {
      "cell_type": "markdown",
      "source": [
        "##Q 9. write a python program to convert user input from string to integer, float, and Boolean types."
      ],
      "metadata": {
        "id": "rPf7v48KQZZY"
      }
    },
    {
      "cell_type": "code",
      "source": [
        "user_input = input(\"Enter a value:\")\n",
        "try:\n",
        "    int_value = int(user_input)\n",
        "    print(\"Integer conversion:\", int_value)\n",
        "except ValueError:\n",
        "    print(\"Cannot convert to integer.\")\n",
        "try:\n",
        "    float_value = float(user_input)\n",
        "    print(\"Float conversion:\", float_value)\n",
        "except ValueError:\n",
        "    print(\"Cannot convert to float.\")\n",
        "bool_value = bool(user_input)\n",
        "print(\"Boolean conversion:\", bool_value)"
      ],
      "metadata": {
        "id": "rJ-Dve3JQg8X"
      },
      "execution_count": null,
      "outputs": []
    },
    {
      "cell_type": "markdown",
      "source": [
        "##Q 10. write code to demonstrate type casting with list elements."
      ],
      "metadata": {
        "id": "YVOwM4O-QljO"
      }
    },
    {
      "cell_type": "code",
      "source": [
        "data_list = [\"10\", \"20\", \"30.5\", \"40\", \"50.8\", 70.2, 60,\"hello\"]\n",
        "int_list = []\n",
        "for item in data_list:\n",
        "    try:\n",
        "        int_list.append(int(float(item)))\n",
        "    except ValueError:\n",
        "     print(\"Original List:\", data_list)\n",
        "print(\"List type after casting to integers:\", int_list)\n",
        "print(f\"Cannot convert '{item}' to an integer.\")\n",
        "float_list = []\n",
        "for item in data_list:\n",
        "    try:\n",
        "        float_list.append(float(item))\n",
        "    except ValueError:\n",
        "     print(\"List after type casting to floats:\", float_list)\n",
        "print(f\"Cannot convert '{item}' to a float.\")"
      ],
      "metadata": {
        "id": "tIt3i5w_RdYv"
      },
      "execution_count": null,
      "outputs": []
    },
    {
      "cell_type": "markdown",
      "source": [
        "##Q 11.  write a program that checks if a number is positive, negative, or zero."
      ],
      "metadata": {
        "id": "UHj4Yx0LRgrP"
      }
    },
    {
      "cell_type": "code",
      "source": [
        "number = float(input(\"Enter a number:\"))\n",
        "if number > 0:\n",
        "    print(\"The number is positive.\")\n",
        "elif number < 0:\n",
        "    print(\"The number is negative.\")\n",
        "else:\n",
        "    print(\"The number is zero.\")"
      ],
      "metadata": {
        "id": "x-yOfh-HRoen"
      },
      "execution_count": null,
      "outputs": []
    },
    {
      "cell_type": "markdown",
      "source": [
        "##Q 12. write a for loop to print numbers from 1 to 10."
      ],
      "metadata": {
        "id": "T0VMRrx3Rref"
      }
    },
    {
      "cell_type": "code",
      "source": [
        "for num in range(1, 11):\n",
        "    print(num)"
      ],
      "metadata": {
        "id": "5K03nfWRRyZe"
      },
      "execution_count": null,
      "outputs": []
    },
    {
      "cell_type": "markdown",
      "source": [
        "##Q 13.  write a python program to find the sum of all even numbers between 1 to 50."
      ],
      "metadata": {
        "id": "NpLQY9LXR1uX"
      }
    },
    {
      "cell_type": "code",
      "source": [
        "sum_of_even_number = 0\n",
        "for number in range(1, 51):\n",
        "    if number % 2 == 0:\n",
        "        sum_of_even_number += number\n",
        "print(\"The sum of all even numbers between 1 and 50 is:\", sum_of_even_number)"
      ],
      "metadata": {
        "id": "L9vx_CZfR-xe"
      },
      "execution_count": null,
      "outputs": []
    },
    {
      "cell_type": "markdown",
      "source": [
        "##Q 14. write a program to reverse a string using a while loop."
      ],
      "metadata": {
        "id": "iYkiT7UrSBN2"
      }
    },
    {
      "cell_type": "code",
      "source": [
        "original_string = input(\"Enter a string:\")\n",
        "reversed_string = \"\"\n",
        "index = len(original_string)-1\n",
        "while index >= 0:\n",
        "    reversed_string += original_string[index]\n",
        "    index -= 1\n",
        "print(\"Reversed string:\", reversed_string)"
      ],
      "metadata": {
        "id": "ZnrCBJJiSHoO"
      },
      "execution_count": null,
      "outputs": []
    },
    {
      "cell_type": "markdown",
      "source": [
        "##Q 15. write a python program to calculate the factorial of a number provided by the user using a while loop."
      ],
      "metadata": {
        "id": "yBZJ25gPSJ6O"
      }
    },
    {
      "cell_type": "code",
      "source": [
        "number = int(input(\"Enter a positive integer: \"))\n",
        "factorial = 1\n",
        "current = number\n",
        "if number < 0:\n",
        "    print(\"Factorial is not defined for negative numbers.\")\n",
        "else:\n",
        "    while current > 0:\n",
        "        factorial *= current\n",
        "        current -= 1\n",
        "    print(f\"The factorial of {number} is {factorial}.\")"
      ],
      "metadata": {
        "id": "FIwHvbg66y_H"
      },
      "execution_count": null,
      "outputs": []
    }
  ]
}